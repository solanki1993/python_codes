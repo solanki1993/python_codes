{
 "cells": [
  {
   "cell_type": "markdown",
   "metadata": {},
   "source": [
    "### Python Codes - Functions\n"
   ]
  },
  {
   "cell_type": "markdown",
   "metadata": {},
   "source": [
    "1.Python code to find the sum of two numbers and return the result from the function"
   ]
  },
  {
   "cell_type": "code",
   "execution_count": 2,
   "metadata": {},
   "outputs": [
    {
     "name": "stdout",
     "output_type": "stream",
     "text": [
      "Sum: 14\n"
     ]
    }
   ],
   "source": [
    "def sum(a,b):\n",
    "    '''code to find the sum of two numbers and return the result'''\n",
    "    \n",
    "    c=a+b\n",
    "    return c\n",
    "    \n",
    "x=sum(12,2)\n",
    "print(\"Sum:\",x)"
   ]
  },
  {
   "cell_type": "markdown",
   "metadata": {},
   "source": [
    "2. Python code to test whether a number is even or odd"
   ]
  },
  {
   "cell_type": "code",
   "execution_count": 3,
   "metadata": {},
   "outputs": [
    {
     "name": "stdout",
     "output_type": "stream",
     "text": [
      "number is even\n",
      "number is odd\n"
     ]
    }
   ],
   "source": [
    "def even_odd(num):\n",
    "    '''code to test whether a number is even or odd'''\n",
    "    \n",
    "    if num%2==0:\n",
    "        print(\"number is even\")\n",
    "    else:\n",
    "        print(\"number is odd\")\n",
    "        \n",
    "even_odd(42)\n",
    "even_odd(3)\n",
    "        "
   ]
  },
  {
   "cell_type": "markdown",
   "metadata": {},
   "source": [
    "3.Python code to write a function that calculates the factorial of a given number"
   ]
  },
  {
   "cell_type": "code",
   "execution_count": 12,
   "metadata": {},
   "outputs": [
    {
     "name": "stdout",
     "output_type": "stream",
     "text": [
      "factorial of 1 is 1\n",
      "factorial of 2 is 2\n",
      "factorial of 3 is 3\n",
      "factorial of 4 is 4\n",
      "factorial of 5 is 5\n",
      "factorial of 6 is 6\n",
      "factorial of 7 is 7\n",
      "factorial of 8 is 8\n",
      "factorial of 9 is 9\n",
      "factorial of 10 is 10\n"
     ]
    }
   ],
   "source": [
    "def fact(n):\n",
    "    '''code to write a function that calculates the factorial of a given number'''\n",
    "    \n",
    "    prod=1\n",
    "    while n>=1:\n",
    "        prod=prod*n\n",
    "        n=n-1\n",
    "        \n",
    "        return prod\n",
    "\n",
    "for i in range(1,11):\n",
    "    print(\"factorial of {} is {}\".format(i,fact(i)))"
   ]
  },
  {
   "cell_type": "code",
   "execution_count": 13,
   "metadata": {},
   "outputs": [
    {
     "name": "stdout",
     "output_type": "stream",
     "text": [
      "Input a number to compute the factiorial : 3\n",
      "6\n"
     ]
    }
   ],
   "source": [
    "def factorial(n):\n",
    "    if n == 0:\n",
    "        return 1\n",
    "    else:\n",
    "        return n * factorial(n-1)\n",
    "n=int(input(\"Input a number to compute the factiorial : \"))\n",
    "print(factorial(n))"
   ]
  },
  {
   "cell_type": "markdown",
   "metadata": {},
   "source": [
    "4. Code to check whether the given number is prime or not"
   ]
  },
  {
   "cell_type": "code",
   "execution_count": 22,
   "metadata": {},
   "outputs": [
    {
     "name": "stdout",
     "output_type": "stream",
     "text": [
      "Enter a number :12\n",
      "12 is not prime\n"
     ]
    }
   ],
   "source": [
    "def prime(n):\n",
    "    '''Code to check whether the given number is prime or not'''\n",
    "    x=1\n",
    "    for i in range(2,n):\n",
    "        if n%i == 0:\n",
    "            x=0\n",
    "            break\n",
    "        else:\n",
    "            x=1\n",
    "    return x\n",
    "\n",
    "num = int(input('Enter a number :'))\n",
    "\n",
    "result=prime(num)\n",
    "\n",
    "if result == 1:\n",
    "    print(num,'is prime')\n",
    "else:\n",
    "    print(num, 'is not prime')"
   ]
  },
  {
   "cell_type": "markdown",
   "metadata": {},
   "source": [
    "5. Python code to generate prime numbers with the help of a function\n"
   ]
  },
  {
   "cell_type": "code",
   "execution_count": 24,
   "metadata": {},
   "outputs": [
    {
     "name": "stdout",
     "output_type": "stream",
     "text": [
      "Enter the last number:11\n",
      "2\n",
      "3\n",
      "5\n",
      "7\n",
      "11\n",
      "13\n",
      "17\n",
      "19\n",
      "23\n",
      "29\n",
      "31\n"
     ]
    }
   ],
   "source": [
    "def prime(n):\n",
    "    '''Python code to generate prime numbers with the help of a function'''\n",
    "    \n",
    "    x=1\n",
    "    for i in range(2,n):\n",
    "        if n%i == 0:\n",
    "            x=0\n",
    "            break\n",
    "        else:\n",
    "            x=1\n",
    "    return x\n",
    "\n",
    "\n",
    "#generate prime number series\n",
    "num  = int(input('Enter the last number:'))\n",
    "\n",
    "i=2 #start with i value 2\n",
    "c=1 #counts the number of primes\n",
    "\n",
    "while True:\n",
    "    if prime(i):\n",
    "        print(i)\n",
    "        c+=1\n",
    "    i+=1\n",
    "    if c>num:\n",
    "        break"
   ]
  },
  {
   "cell_type": "markdown",
   "metadata": {},
   "source": [
    "6.Code to understand how functions can return multiple values "
   ]
  },
  {
   "cell_type": "code",
   "execution_count": 25,
   "metadata": {},
   "outputs": [
    {
     "name": "stdout",
     "output_type": "stream",
     "text": [
      "sum of the two numbers: 26\n",
      "difference of the two numbers: 2\n"
     ]
    }
   ],
   "source": [
    "def sum_sub(a,b):\n",
    "    '''Code to understand how functions can return multiple values'''\n",
    "    c=a+b\n",
    "    d=a-b\n",
    "    \n",
    "    return c,d\n",
    "\n",
    "x,y=sum_sub(14,12)\n",
    "print('sum of the two numbers:',x )\n",
    "print('difference of the two numbers:',y)"
   ]
  },
  {
   "cell_type": "markdown",
   "metadata": {},
   "source": [
    "6.Code to return multiple values- addition, subtraction , multiplication and division"
   ]
  },
  {
   "cell_type": "code",
   "execution_count": 27,
   "metadata": {},
   "outputs": [
    {
     "name": "stdout",
     "output_type": "stream",
     "text": [
      "the results are:\n",
      "7,3,10,2.5,"
     ]
    }
   ],
   "source": [
    "def sum_sub_mul_div(a,b):\n",
    "    '''Code to return multiple values- addition, subtraction , multiplication and division'''\n",
    "    \n",
    "    c=a+b\n",
    "    d=a-b\n",
    "    e=a*b\n",
    "    f=a/b\n",
    "    \n",
    "    return c,d,e,f\n",
    "\n",
    "t = sum_sub_mul_div(5,2)\n",
    "\n",
    "print('the results are:')\n",
    "for i in t:\n",
    "    print(i, end=',')"
   ]
  },
  {
   "cell_type": "markdown",
   "metadata": {},
   "source": [
    "7.Code defining a function within another function"
   ]
  },
  {
   "cell_type": "code",
   "execution_count": 45,
   "metadata": {},
   "outputs": [
    {
     "name": "stdout",
     "output_type": "stream",
     "text": [
      "The message is :\n",
      " How art thou? Solanki\n"
     ]
    }
   ],
   "source": [
    "def display(str):\n",
    "    '''Code defining a function within another function'''\n",
    "    def message():\n",
    "        return 'How art thou?'\n",
    "    \n",
    "    result = message()+str\n",
    "    return result\n",
    "\n",
    "final = display(' Solanki')\n",
    "print('The message is :\\n',final)"
   ]
  },
  {
   "cell_type": "markdown",
   "metadata": {},
   "source": [
    "Code to understand Keyword variable length argument"
   ]
  },
  {
   "cell_type": "code",
   "execution_count": 2,
   "metadata": {},
   "outputs": [
    {
     "name": "stdout",
     "output_type": "stream",
     "text": [
      "the formal argument is: 2\n",
      "key a for value 21\n",
      "the formal argument is: 3\n",
      "key b for value 4\n",
      "key name for value SOlanki\n"
     ]
    }
   ],
   "source": [
    "def display(farg, **kwargs):\n",
    "    '''Code to understand Keyword variable length argument'''\n",
    "    print(\"the formal argument is:\", farg)\n",
    "    \n",
    "    for x,y in kwargs.items():\n",
    "        print(\"key {} for value {}\".format(x,y))\n",
    "        \n",
    "        \n",
    "#passing values in the function\n",
    "\n",
    "display(2, a=21)\n",
    "display(3, b=4, name ='SOlanki')"
   ]
  },
  {
   "cell_type": "markdown",
   "metadata": {},
   "source": [
    "Code to get a copy of global variable into a function and work with it\n"
   ]
  },
  {
   "cell_type": "code",
   "execution_count": 4,
   "metadata": {},
   "outputs": [
    {
     "name": "stdout",
     "output_type": "stream",
     "text": [
      "global variable is : 1\n",
      "local variable is: 2\n",
      "global variable is : 1\n"
     ]
    }
   ],
   "source": [
    "a=1\n",
    "\n",
    "def myFunc():\n",
    "    a=2\n",
    "    x = globals()['a']\n",
    "    print('global variable is :',x)\n",
    "    print('local variable is:',a)\n",
    "    \n",
    "myFunc()\n",
    "print('global variable is :',a)"
   ]
  },
  {
   "cell_type": "markdown",
   "metadata": {},
   "source": [
    "Code to accept group of number and find the sum and average"
   ]
  },
  {
   "cell_type": "code",
   "execution_count": 10,
   "metadata": {},
   "outputs": [
    {
     "name": "stdout",
     "output_type": "stream",
     "text": [
      "enter a list of numbers:1,2,3\n",
      "sum of the numbers: 6\n",
      "average of the numbers: 2.0\n"
     ]
    }
   ],
   "source": [
    "def calculate(lst):\n",
    "    \n",
    "    n = len(lst)\n",
    "    s = sum(lst)\n",
    "    a = s/n\n",
    "    return s , a\n",
    "    \n",
    "#print('enter a list of numbers:')\n",
    "lst = [int(x) for x in input('enter a list of numbers:').split(',')]\n",
    "\n",
    "x,y = calculate(lst)\n",
    "print(\"sum of the numbers:\", x)\n",
    "print(\"average of the numbers:\",y)"
   ]
  },
  {
   "cell_type": "markdown",
   "metadata": {},
   "source": [
    "Code to calculate factorial values using recursion"
   ]
  },
  {
   "cell_type": "code",
   "execution_count": 1,
   "metadata": {},
   "outputs": [
    {
     "name": "stdout",
     "output_type": "stream",
     "text": [
      "enter number to find factorial3\n",
      "factorial of 3 is 6\n"
     ]
    }
   ],
   "source": [
    "def factorial(n):\n",
    "    \n",
    "    if (n==1):\n",
    "        result = 1\n",
    "    else:\n",
    "        result = n * factorial(n-1)\n",
    "    return result\n",
    "     \n",
    "    \n",
    "n = int(input('enter number to find factorial'))\n",
    "x = factorial(n)\n",
    "print(\"factorial of {} is {}\".format(n , x))"
   ]
  },
  {
   "cell_type": "code",
   "execution_count": 3,
   "metadata": {},
   "outputs": [
    {
     "name": "stdout",
     "output_type": "stream",
     "text": [
      "factorial of 1 is 1\n",
      "factorial of 2 is 2\n",
      "factorial of 3 is 6\n",
      "factorial of 4 is 24\n",
      "factorial of 5 is 120\n",
      "factorial of 6 is 720\n",
      "factorial of 7 is 5040\n",
      "factorial of 8 is 40320\n",
      "factorial of 9 is 362880\n",
      "factorial of 10 is 3628800\n"
     ]
    }
   ],
   "source": [
    "#to find the factorial values for the first ten numbers\n",
    "\n",
    "for i in range(1,11):\n",
    "    print(\"factorial of {} is {}\".format(i , factorial(i)))"
   ]
  },
  {
   "cell_type": "markdown",
   "metadata": {},
   "source": [
    "**Tower of Hanoi Problem**"
   ]
  },
  {
   "cell_type": "code",
   "execution_count": 7,
   "metadata": {},
   "outputs": [
    {
     "name": "stdout",
     "output_type": "stream",
     "text": [
      "enter number of disks:3\n",
      "move %i from %s to %s (1, 'A', 'C')\n",
      "move %i from %s to %s (2, 'A', 'B')\n",
      "move %i from %s to %s (1, 'C', 'B')\n",
      "move %i from %s to %s (3, 'A', 'C')\n",
      "move %i from %s to %s (1, 'B', 'A')\n",
      "move %i from %s to %s (2, 'B', 'C')\n",
      "move %i from %s to %s (1, 'A', 'C')\n"
     ]
    }
   ],
   "source": [
    "def tower(n, a, c, b ):\n",
    "    '''Code to solve the tower of hanoi problem recursively'''\n",
    "    if n == 1:\n",
    "        print('move %i from %s to %s', (n,a,c))\n",
    "        \n",
    "    else:\n",
    "        tower(n-1,a,b,c)\n",
    "        \n",
    "        #we need to move rremaining one disk from a to c\n",
    "        print('move %i from %s to %s', (n,a,c))\n",
    "        \n",
    "        #moving n-1 disk from b to c using a:\n",
    "        tower(n-1, b,c,a)\n",
    "        \n",
    "n = int (input('enter number of disks:'))\n",
    "\n",
    "tower(n , 'A', 'C', 'B')"
   ]
  },
  {
   "cell_type": "markdown",
   "metadata": {},
   "source": [
    "Creating lambda function that returns a square value of a given number"
   ]
  },
  {
   "cell_type": "code",
   "execution_count": 8,
   "metadata": {},
   "outputs": [
    {
     "name": "stdout",
     "output_type": "stream",
     "text": [
      "square value is : 25\n"
     ]
    }
   ],
   "source": [
    "sq = lambda x : x*x\n",
    "sqval = sq(5)\n",
    "print('square value is :', sqval)\n",
    "\n"
   ]
  },
  {
   "cell_type": "code",
   "execution_count": 9,
   "metadata": {},
   "outputs": [
    {
     "name": "stdout",
     "output_type": "stream",
     "text": [
      "enter a number2\n",
      "square value is : 4\n"
     ]
    }
   ],
   "source": [
    "n = int(input('enter a number'))\n",
    "\n",
    "f = lambda x : x*x\n",
    "sqval = f(n)\n",
    "print('square value is :', sqval)\n"
   ]
  },
  {
   "cell_type": "code",
   "execution_count": 11,
   "metadata": {},
   "outputs": [
    {
     "name": "stdout",
     "output_type": "stream",
     "text": [
      "enter two numbers:2,4\n",
      "the naximum number is : 4\n"
     ]
    }
   ],
   "source": [
    "#to find the maximum of the two numbers\n",
    "\n",
    "max =  lambda x,y : x if x>y else y\n",
    "\n",
    "a,b = [int(n) for n in input ('enter two numbers:').split(',')]\n",
    "\n",
    "print('the naximum number is :', max(a,b))"
   ]
  },
  {
   "cell_type": "markdown",
   "metadata": {},
   "source": [
    "Code to use filter() to fiter out even numbers from a list"
   ]
  },
  {
   "cell_type": "code",
   "execution_count": 18,
   "metadata": {},
   "outputs": [
    {
     "name": "stdout",
     "output_type": "stream",
     "text": [
      "the even numbers out of that list are: [2, 4, 6]\n"
     ]
    }
   ],
   "source": [
    "\n",
    "def is_even(x):\n",
    "    if x%2==0:\n",
    "        return True\n",
    "    else:\n",
    "        return False\n",
    "    \n",
    "l = [1,2,3,4,5,6,7]\n",
    "\n",
    "lst=list(filter(is_even,l))\n",
    "\n",
    "print('the even numbers out of that list are:',lst)"
   ]
  },
  {
   "cell_type": "markdown",
   "metadata": {},
   "source": [
    "using a lambda to return even numbers from the list"
   ]
  },
  {
   "cell_type": "code",
   "execution_count": 19,
   "metadata": {},
   "outputs": [
    {
     "name": "stdout",
     "output_type": "stream",
     "text": [
      "[2, 4, 44, 6, 66, 74]\n"
     ]
    }
   ],
   "source": [
    "lst = [1,2,23,4,44,5,55,6,65,66,74]\n",
    "\n",
    "lst1 =list(filter(lambda x: (x%2==0), lst))\n",
    "print(lst1)"
   ]
  },
  {
   "cell_type": "markdown",
   "metadata": {},
   "source": [
    "lambda function to return square of elements from a list"
   ]
  },
  {
   "cell_type": "code",
   "execution_count": 23,
   "metadata": {},
   "outputs": [
    {
     "name": "stdout",
     "output_type": "stream",
     "text": [
      "[2, 4, 46, 84, 88, 10, 130, 132]\n"
     ]
    }
   ],
   "source": [
    "lst = [1,2,23,42,44,5,65,66]\n",
    "lst1 = list(map(lambda x: (x+x), lst))\n",
    "#here we use map            \n",
    "print(lst1)"
   ]
  },
  {
   "cell_type": "markdown",
   "metadata": {},
   "source": [
    "Code to wrie a decorator to increase the value of the function by 2"
   ]
  },
  {
   "cell_type": "code",
   "execution_count": 25,
   "metadata": {},
   "outputs": [
    {
     "name": "stdout",
     "output_type": "stream",
     "text": [
      "12\n"
     ]
    }
   ],
   "source": [
    "def decor(func):\n",
    "    '''Code to wrie a decorator to increase the value of the function by 2'''\n",
    "    def inner():\n",
    "        f = func()\n",
    "        return f+2\n",
    "    return inner\n",
    "\n",
    "@decor\n",
    "def num():\n",
    "    return 10\n",
    "\n",
    "#new_val = decor(num)\n",
    "#print(new_val())\n",
    "print(num())"
   ]
  },
  {
   "cell_type": "markdown",
   "metadata": {},
   "source": [
    "Generator that returns sequence of numbers"
   ]
  },
  {
   "cell_type": "code",
   "execution_count": 27,
   "metadata": {},
   "outputs": [
    {
     "name": "stdout",
     "output_type": "stream",
     "text": [
      "5,6,7,8,9,10,"
     ]
    }
   ],
   "source": [
    "def myGen(x,y):\n",
    "    while x<=y :\n",
    "        yield x\n",
    "        x+=1\n",
    "        \n",
    "g = myGen(5,10)\n",
    "\n",
    "for i in g:\n",
    "    print(i,end =',')"
   ]
  },
  {
   "cell_type": "markdown",
   "metadata": {},
   "source": [
    "Code to calculate gross salary and net salary of an employee"
   ]
  },
  {
   "cell_type": "code",
   "execution_count": 28,
   "metadata": {},
   "outputs": [
    {
     "name": "stdout",
     "output_type": "stream",
     "text": [
      "Enter basic salary:20000\n",
      "Your gross salary is :   39000.00\n",
      "net salary is :   32700.00\n"
     ]
    }
   ],
   "source": [
    "def da(basic):\n",
    "    '''da is 80% of basic salary'''\n",
    "    da = basic * 0.8\n",
    "    return da\n",
    "\n",
    "def hra(basic):\n",
    "    '''hra is 15% of basic salary'''\n",
    "    hra = basic * 0.15\n",
    "    return hra\n",
    "\n",
    "def pf(basic):\n",
    "    '''pf is 12% of basic salary'''\n",
    "    pf = basic * 0.12\n",
    "    return pf\n",
    "\n",
    "def itax(gross):\n",
    "    '''itax is 10% on gross'''\n",
    "    itax = gross * 0.1\n",
    "    return itax\n",
    "\n",
    "\n",
    "basic = float(input(\"Enter basic salary:\"))\n",
    "\n",
    "gross = basic + da(basic) + hra(basic)\n",
    "print(\"Your gross salary is : {:10.2f}\".format(gross))\n",
    "\n",
    "net_salary = gross - pf(basic) - itax(gross)\n",
    "print(\"net salary is : {:10.2f}\".format(net_salary))"
   ]
  },
  {
   "cell_type": "code",
   "execution_count": null,
   "metadata": {},
   "outputs": [],
   "source": []
  }
 ],
 "metadata": {
  "kernelspec": {
   "display_name": "Python 3",
   "language": "python",
   "name": "python3"
  },
  "language_info": {
   "codemirror_mode": {
    "name": "ipython",
    "version": 3
   },
   "file_extension": ".py",
   "mimetype": "text/x-python",
   "name": "python",
   "nbconvert_exporter": "python",
   "pygments_lexer": "ipython3",
   "version": "3.7.9"
  }
 },
 "nbformat": 4,
 "nbformat_minor": 5
}
